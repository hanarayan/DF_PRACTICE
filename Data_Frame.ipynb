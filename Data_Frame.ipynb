{
  "cells": [
    {
      "cell_type": "markdown",
      "metadata": {
        "id": "view-in-github",
        "colab_type": "text"
      },
      "source": [
        "<a href=\"https://colab.research.google.com/github/hanarayan/DF_PRACTICE/blob/main/Data_Frame.ipynb\" target=\"_parent\"><img src=\"https://colab.research.google.com/assets/colab-badge.svg\" alt=\"Open In Colab\"/></a>"
      ]
    },
    {
      "cell_type": "code",
      "source": [
        "!pip install pyspark\n",
        "\n",
        "from pyspark.sql import SparkSession\n",
        "\n",
        "spark = SparkSession.builder.appName(\"MySparkApp\").getOrCreate()\n",
        "\n",
        "spark\n"
      ],
      "metadata": {
        "id": "ln2dlw8VdkFx"
      },
      "execution_count": null,
      "outputs": []
    },
    {
      "cell_type": "code",
      "execution_count": null,
      "metadata": {
        "id": "yCFyUvbq5iWW"
      },
      "outputs": [],
      "source": [
        "import pandas as pd\n",
        "from tabulate import tabulate\n",
        "\n",
        "\n",
        "df = pd.read_csv('County_Health_Rankings.csv')\n",
        "df.rename(columns=lambda x: x.strip(), inplace=True)\n",
        "df['Data Release Year'] = pd.to_numeric(df['Data Release Year'], errors='coerce').fillna(0).astype(int)\n",
        "df[\"Raw value\"] = pd.to_numeric(df[\"Raw value\"], errors=\"coerce\").fillna(0).astype(float)\n",
        "df[\"Confidence Interval Lower Bound\"] = pd.to_numeric(df[\"Confidence Interval Lower Bound\"], errors=\"coerce\").fillna(0).astype(float)\n",
        "df[\"Confidence Interval Upper Bound\"] = pd.to_numeric(df[\"Confidence Interval Upper Bound\"], errors=\"coerce\").fillna(0).astype(float)\n",
        "df.fillna(\"NOT AVAILABLE\", inplace=True)\n",
        "\n",
        "\n",
        "print(tabulate(df.head(), headers='keys', tablefmt='grid'))\n",
        "\n",
        "column_info = pd.DataFrame({'SNo': range(1, len(df.columns) + 1),\n",
        "                            'Column Name': df.columns})\n",
        "\n",
        "print(tabulate(column_info, headers='keys', tablefmt='grid'))\n",
        "\n",
        "\n",
        "#df.head().style.set_properties(**{'border': '1px solid black', 'padding': '10px'})\n",
        "\n",
        "print(f\"Number of records are: {len(df)}\")\n"
      ]
    },
    {
      "cell_type": "code",
      "execution_count": null,
      "metadata": {
        "id": "1AIleLdJCZDe",
        "collapsed": true
      },
      "outputs": [],
      "source": [
        "\n",
        "county_year_counts = df.groupby(['County', 'Data Release Year']).size().reset_index(name='Record Count')\n",
        "\n",
        "print(tabulate(county_year_counts, headers='keys', tablefmt='grid'))\n"
      ]
    },
    {
      "cell_type": "code",
      "execution_count": null,
      "metadata": {
        "id": "j5xSYl9MDzQC",
        "collapsed": true
      },
      "outputs": [],
      "source": [
        "county_year_counts = df.groupby(['County', 'Data Release Year','Measure name']).size().reset_index(name='Record Count')\n",
        "\n",
        "# Display the result using tabulate\n",
        "print(tabulate(county_year_counts, headers='keys', tablefmt='grid'))"
      ]
    },
    {
      "cell_type": "code",
      "source": [
        "result = df.groupby([\"Measure name\", \"Data Release Year\"]).size().reset_index(name=\"Record Count\")\n",
        "\n",
        "result[\"Mean Count\"] = result[\"Record Count\"].mean()  # Global mean of all record counts\n",
        "result[\"Average Count\"] = result[\"Record Count\"] / result[\"Record Count\"].count()  # Per-row average\n",
        "result[\"Sum Count\"] = result[\"Record Count\"].sum()  # Total sum of record counts\n",
        "result[\"Median Count\"] = result[\"Record Count\"].median()  # Median count\n",
        "\n",
        "print(tabulate(result.head(10), headers=\"keys\", tablefmt=\"grid\"))"
      ],
      "metadata": {
        "collapsed": true,
        "id": "Kv_pjFLbeebk"
      },
      "execution_count": null,
      "outputs": []
    },
    {
      "cell_type": "code",
      "source": [
        "result = df.groupby([\"Measure name\", \"Data Release Year\", \"County\", \"State\"])[\"Raw value\"].sum().reset_index()\n",
        "\n",
        "# Sort the result by 'Data Release Year' in descending order, then by 'Raw Value' in descending order\n",
        "result = result.sort_values([\"Data Release Year\", \"Raw value\"], ascending=[False, False])\n",
        "\n",
        "# Get the top 10 rows\n",
        "top_10_measures = result.head(10)\n",
        "\n",
        "print(tabulate(top_10_measures, headers=\"keys\", tablefmt=\"grid\"))\n"
      ],
      "metadata": {
        "collapsed": true,
        "id": "sQxBPLPuhZ-E"
      },
      "execution_count": null,
      "outputs": []
    },
    {
      "cell_type": "code",
      "source": [
        "measures = [\"Violent crime rate\", \"Diabetic\", \"Unemployment rate\"]\n",
        "\n",
        "filtered_df = df[df[\"Measure name\"].isin(measures)]\n",
        "\n",
        "result = filtered_df.groupby([\"County\", \"Measure name\"])[\"Raw value\"].sum().reset_index()\n",
        "#print(tabulate(result.head(1000), headers=\"keys\", tablefmt=\"grid\"))\n",
        "\n",
        "pivot_table = result.pivot(index=\"County\", columns=\"Measure name\", values=\"Raw value\")\n",
        "\n",
        "pivot_table = pivot_table.fillna(0)\n",
        "\n",
        "# Ensure all expected columns exist, creating them with 0 values if missing\n",
        "for measure in measures:\n",
        "    if measure not in pivot_table.columns:\n",
        "        pivot_table[measure] = 0\n",
        "\n",
        "pivot_table[\"Combined Score\"] = (pivot_table[\"Violent crime rate\"] +\n",
        "                                pivot_table[\"Diabetic\"] +\n",
        "                                pivot_table[\"Unemployment rate\"])\n",
        "\n",
        "top_counties = pivot_table.sort_values(\"Combined Score\", ascending=False).head(10)  # Get top 10\n",
        "\n",
        "print(tabulate(top_counties, headers=\"keys\", tablefmt=\"grid\"))"
      ],
      "metadata": {
        "collapsed": true,
        "id": "WPgQQiiJjkue"
      },
      "execution_count": null,
      "outputs": []
    },
    {
      "cell_type": "code",
      "source": [
        "less_counties = pivot_table.sort_values(\"Combined Score\", ascending=True).head(10)  # Get less 10\n",
        "print(tabulate(less_counties, headers=\"keys\", tablefmt=\"grid\"))"
      ],
      "metadata": {
        "collapsed": true,
        "id": "va-Tcm9bmWtc"
      },
      "execution_count": null,
      "outputs": []
    },
    {
      "cell_type": "code",
      "source": [
        "\n",
        "correlation_matrix = df[[\"Raw value\", \"Confidence Interval Lower Bound\", \"Confidence Interval Upper Bound\"]].corr()\n",
        "print(tabulate(correlation_matrix, headers='keys', tablefmt='grid'))\n"
      ],
      "metadata": {
        "id": "wNbRu9nQml5c"
      },
      "execution_count": null,
      "outputs": []
    }
  ],
  "metadata": {
    "colab": {
      "provenance": [],
      "authorship_tag": "ABX9TyM7Rx8ppbkWt+2m0f/DoCGW",
      "include_colab_link": true
    },
    "kernelspec": {
      "display_name": "Python 3",
      "name": "python3"
    },
    "language_info": {
      "name": "python"
    }
  },
  "nbformat": 4,
  "nbformat_minor": 0
}