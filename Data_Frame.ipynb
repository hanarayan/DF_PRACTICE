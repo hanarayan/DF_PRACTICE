{
  "nbformat": 4,
  "nbformat_minor": 0,
  "metadata": {
    "colab": {
      "provenance": [],
      "authorship_tag": "ABX9TyOakBA10O/attwY9nyvS5vC",
      "include_colab_link": true
    },
    "kernelspec": {
      "name": "python3",
      "display_name": "Python 3"
    },
    "language_info": {
      "name": "python"
    }
  },
  "cells": [
    {
      "cell_type": "markdown",
      "metadata": {
        "id": "view-in-github",
        "colab_type": "text"
      },
      "source": [
        "<a href=\"https://colab.research.google.com/github/hanarayan/DF_PRACTICE/blob/main/Data_Frame.ipynb\" target=\"_parent\"><img src=\"https://colab.research.google.com/assets/colab-badge.svg\" alt=\"Open In Colab\"/></a>"
      ]
    },
    {
      "cell_type": "code",
      "execution_count": 3,
      "metadata": {
        "colab": {
          "base_uri": "https://localhost:8080/",
          "height": 608
        },
        "id": "yCFyUvbq5iWW",
        "outputId": "53f1c937-a076-4983-f0c3-028a4a2f2808"
      },
      "outputs": [
        {
          "output_type": "stream",
          "name": "stdout",
          "text": [
            "+----+---------+---------------+--------------+---------------+-------------+--------------------+--------------+-------------+---------------+-------------+-----------------------------------+-----------------------------------+---------------------+------------+\n",
            "|    | State   | County        |   State code |   County code | Year span   | Measure name       |   Measure id |   Numerator |   Denominator |   Raw value |   Confidence Interval Lower Bound |   Confidence Interval Upper Bound |   Data Release Year |   fipscode |\n",
            "+====+=========+===============+==============+===============+=============+====================+==============+=============+===============+=============+===================================+===================================+=====================+============+\n",
            "|  0 | US      | United States |            0 |             0 | 2003-2005   | Violent crime rate |           43 | 1.32875e+06 |   2.74877e+08 |     483.398 |                               nan |                               nan |                 nan |          0 |\n",
            "+----+---------+---------------+--------------+---------------+-------------+--------------------+--------------+-------------+---------------+-------------+-----------------------------------+-----------------------------------+---------------------+------------+\n",
            "|  1 | US      | United States |            0 |             0 | 2004-2006   | Violent crime rate |           43 | 1.34093e+06 |   2.77613e+08 |     483.021 |                               nan |                               nan |                 nan |          0 |\n",
            "+----+---------+---------------+--------------+---------------+-------------+--------------------+--------------+-------------+---------------+-------------+-----------------------------------+-----------------------------------+---------------------+------------+\n",
            "|  2 | US      | United States |            0 |             0 | 2005-2007   | Violent crime rate |           43 | 1.35585e+06 |   2.80408e+08 |     483.529 |                               nan |                               nan |                2010 |          0 |\n",
            "+----+---------+---------------+--------------+---------------+-------------+--------------------+--------------+-------------+---------------+-------------+-----------------------------------+-----------------------------------+---------------------+------------+\n",
            "|  3 | US      | United States |            0 |             0 | 2006-2008   | Violent crime rate |           43 | 1.36693e+06 |   2.87615e+08 |     475.264 |                               nan |                               nan |                2011 |          0 |\n",
            "+----+---------+---------------+--------------+---------------+-------------+--------------------+--------------+-------------+---------------+-------------+-----------------------------------+-----------------------------------+---------------------+------------+\n",
            "|  4 | US      | United States |            0 |             0 | 2007-2009   | Violent crime rate |           43 | 1.33944e+06 |   2.92576e+08 |     457.809 |                               nan |                               nan |                2012 |          0 |\n",
            "+----+---------+---------------+--------------+---------------+-------------+--------------------+--------------+-------------+---------------+-------------+-----------------------------------+-----------------------------------+---------------------+------------+\n"
          ]
        },
        {
          "output_type": "execute_result",
          "data": {
            "text/plain": [
              "<pandas.io.formats.style.Styler at 0x799fe8adc190>"
            ],
            "text/html": [
              "<style type=\"text/css\">\n",
              "#T_d52cf_row0_col0, #T_d52cf_row0_col1, #T_d52cf_row0_col2, #T_d52cf_row0_col3, #T_d52cf_row0_col4, #T_d52cf_row0_col5, #T_d52cf_row0_col6, #T_d52cf_row0_col7, #T_d52cf_row0_col8, #T_d52cf_row0_col9, #T_d52cf_row0_col10, #T_d52cf_row0_col11, #T_d52cf_row0_col12, #T_d52cf_row0_col13, #T_d52cf_row1_col0, #T_d52cf_row1_col1, #T_d52cf_row1_col2, #T_d52cf_row1_col3, #T_d52cf_row1_col4, #T_d52cf_row1_col5, #T_d52cf_row1_col6, #T_d52cf_row1_col7, #T_d52cf_row1_col8, #T_d52cf_row1_col9, #T_d52cf_row1_col10, #T_d52cf_row1_col11, #T_d52cf_row1_col12, #T_d52cf_row1_col13, #T_d52cf_row2_col0, #T_d52cf_row2_col1, #T_d52cf_row2_col2, #T_d52cf_row2_col3, #T_d52cf_row2_col4, #T_d52cf_row2_col5, #T_d52cf_row2_col6, #T_d52cf_row2_col7, #T_d52cf_row2_col8, #T_d52cf_row2_col9, #T_d52cf_row2_col10, #T_d52cf_row2_col11, #T_d52cf_row2_col12, #T_d52cf_row2_col13, #T_d52cf_row3_col0, #T_d52cf_row3_col1, #T_d52cf_row3_col2, #T_d52cf_row3_col3, #T_d52cf_row3_col4, #T_d52cf_row3_col5, #T_d52cf_row3_col6, #T_d52cf_row3_col7, #T_d52cf_row3_col8, #T_d52cf_row3_col9, #T_d52cf_row3_col10, #T_d52cf_row3_col11, #T_d52cf_row3_col12, #T_d52cf_row3_col13, #T_d52cf_row4_col0, #T_d52cf_row4_col1, #T_d52cf_row4_col2, #T_d52cf_row4_col3, #T_d52cf_row4_col4, #T_d52cf_row4_col5, #T_d52cf_row4_col6, #T_d52cf_row4_col7, #T_d52cf_row4_col8, #T_d52cf_row4_col9, #T_d52cf_row4_col10, #T_d52cf_row4_col11, #T_d52cf_row4_col12, #T_d52cf_row4_col13 {\n",
              "  border: 1px solid black;\n",
              "  padding: 10px;\n",
              "}\n",
              "</style>\n",
              "<table id=\"T_d52cf\" class=\"dataframe\">\n",
              "  <thead>\n",
              "    <tr>\n",
              "      <th class=\"blank level0\" >&nbsp;</th>\n",
              "      <th id=\"T_d52cf_level0_col0\" class=\"col_heading level0 col0\" >State</th>\n",
              "      <th id=\"T_d52cf_level0_col1\" class=\"col_heading level0 col1\" >County</th>\n",
              "      <th id=\"T_d52cf_level0_col2\" class=\"col_heading level0 col2\" >State code</th>\n",
              "      <th id=\"T_d52cf_level0_col3\" class=\"col_heading level0 col3\" >County code</th>\n",
              "      <th id=\"T_d52cf_level0_col4\" class=\"col_heading level0 col4\" >Year span</th>\n",
              "      <th id=\"T_d52cf_level0_col5\" class=\"col_heading level0 col5\" >Measure name</th>\n",
              "      <th id=\"T_d52cf_level0_col6\" class=\"col_heading level0 col6\" >Measure id</th>\n",
              "      <th id=\"T_d52cf_level0_col7\" class=\"col_heading level0 col7\" >Numerator</th>\n",
              "      <th id=\"T_d52cf_level0_col8\" class=\"col_heading level0 col8\" >Denominator</th>\n",
              "      <th id=\"T_d52cf_level0_col9\" class=\"col_heading level0 col9\" >Raw value</th>\n",
              "      <th id=\"T_d52cf_level0_col10\" class=\"col_heading level0 col10\" >Confidence Interval Lower Bound</th>\n",
              "      <th id=\"T_d52cf_level0_col11\" class=\"col_heading level0 col11\" >Confidence Interval Upper Bound</th>\n",
              "      <th id=\"T_d52cf_level0_col12\" class=\"col_heading level0 col12\" >Data Release Year</th>\n",
              "      <th id=\"T_d52cf_level0_col13\" class=\"col_heading level0 col13\" >fipscode</th>\n",
              "    </tr>\n",
              "  </thead>\n",
              "  <tbody>\n",
              "    <tr>\n",
              "      <th id=\"T_d52cf_level0_row0\" class=\"row_heading level0 row0\" >0</th>\n",
              "      <td id=\"T_d52cf_row0_col0\" class=\"data row0 col0\" >US</td>\n",
              "      <td id=\"T_d52cf_row0_col1\" class=\"data row0 col1\" >United States</td>\n",
              "      <td id=\"T_d52cf_row0_col2\" class=\"data row0 col2\" >0.000000</td>\n",
              "      <td id=\"T_d52cf_row0_col3\" class=\"data row0 col3\" >0.000000</td>\n",
              "      <td id=\"T_d52cf_row0_col4\" class=\"data row0 col4\" >2003-2005</td>\n",
              "      <td id=\"T_d52cf_row0_col5\" class=\"data row0 col5\" >Violent crime rate</td>\n",
              "      <td id=\"T_d52cf_row0_col6\" class=\"data row0 col6\" >43.000000</td>\n",
              "      <td id=\"T_d52cf_row0_col7\" class=\"data row0 col7\" >1328750.667000</td>\n",
              "      <td id=\"T_d52cf_row0_col8\" class=\"data row0 col8\" >274877117.000000</td>\n",
              "      <td id=\"T_d52cf_row0_col9\" class=\"data row0 col9\" >483.398066</td>\n",
              "      <td id=\"T_d52cf_row0_col10\" class=\"data row0 col10\" >nan</td>\n",
              "      <td id=\"T_d52cf_row0_col11\" class=\"data row0 col11\" >nan</td>\n",
              "      <td id=\"T_d52cf_row0_col12\" class=\"data row0 col12\" >nan</td>\n",
              "      <td id=\"T_d52cf_row0_col13\" class=\"data row0 col13\" >0.000000</td>\n",
              "    </tr>\n",
              "    <tr>\n",
              "      <th id=\"T_d52cf_level0_row1\" class=\"row_heading level0 row1\" >1</th>\n",
              "      <td id=\"T_d52cf_row1_col0\" class=\"data row1 col0\" >US</td>\n",
              "      <td id=\"T_d52cf_row1_col1\" class=\"data row1 col1\" >United States</td>\n",
              "      <td id=\"T_d52cf_row1_col2\" class=\"data row1 col2\" >0.000000</td>\n",
              "      <td id=\"T_d52cf_row1_col3\" class=\"data row1 col3\" >0.000000</td>\n",
              "      <td id=\"T_d52cf_row1_col4\" class=\"data row1 col4\" >2004-2006</td>\n",
              "      <td id=\"T_d52cf_row1_col5\" class=\"data row1 col5\" >Violent crime rate</td>\n",
              "      <td id=\"T_d52cf_row1_col6\" class=\"data row1 col6\" >43.000000</td>\n",
              "      <td id=\"T_d52cf_row1_col7\" class=\"data row1 col7\" >1340928.667000</td>\n",
              "      <td id=\"T_d52cf_row1_col8\" class=\"data row1 col8\" >277612778.500000</td>\n",
              "      <td id=\"T_d52cf_row1_col9\" class=\"data row1 col9\" >483.021233</td>\n",
              "      <td id=\"T_d52cf_row1_col10\" class=\"data row1 col10\" >nan</td>\n",
              "      <td id=\"T_d52cf_row1_col11\" class=\"data row1 col11\" >nan</td>\n",
              "      <td id=\"T_d52cf_row1_col12\" class=\"data row1 col12\" >nan</td>\n",
              "      <td id=\"T_d52cf_row1_col13\" class=\"data row1 col13\" >0.000000</td>\n",
              "    </tr>\n",
              "    <tr>\n",
              "      <th id=\"T_d52cf_level0_row2\" class=\"row_heading level0 row2\" >2</th>\n",
              "      <td id=\"T_d52cf_row2_col0\" class=\"data row2 col0\" >US</td>\n",
              "      <td id=\"T_d52cf_row2_col1\" class=\"data row2 col1\" >United States</td>\n",
              "      <td id=\"T_d52cf_row2_col2\" class=\"data row2 col2\" >0.000000</td>\n",
              "      <td id=\"T_d52cf_row2_col3\" class=\"data row2 col3\" >0.000000</td>\n",
              "      <td id=\"T_d52cf_row2_col4\" class=\"data row2 col4\" >2005-2007</td>\n",
              "      <td id=\"T_d52cf_row2_col5\" class=\"data row2 col5\" >Violent crime rate</td>\n",
              "      <td id=\"T_d52cf_row2_col6\" class=\"data row2 col6\" >43.000000</td>\n",
              "      <td id=\"T_d52cf_row2_col7\" class=\"data row2 col7\" >1355853.167000</td>\n",
              "      <td id=\"T_d52cf_row2_col8\" class=\"data row2 col8\" >280407694.700000</td>\n",
              "      <td id=\"T_d52cf_row2_col9\" class=\"data row2 col9\" >483.529230</td>\n",
              "      <td id=\"T_d52cf_row2_col10\" class=\"data row2 col10\" >nan</td>\n",
              "      <td id=\"T_d52cf_row2_col11\" class=\"data row2 col11\" >nan</td>\n",
              "      <td id=\"T_d52cf_row2_col12\" class=\"data row2 col12\" >2010.000000</td>\n",
              "      <td id=\"T_d52cf_row2_col13\" class=\"data row2 col13\" >0.000000</td>\n",
              "    </tr>\n",
              "    <tr>\n",
              "      <th id=\"T_d52cf_level0_row3\" class=\"row_heading level0 row3\" >3</th>\n",
              "      <td id=\"T_d52cf_row3_col0\" class=\"data row3 col0\" >US</td>\n",
              "      <td id=\"T_d52cf_row3_col1\" class=\"data row3 col1\" >United States</td>\n",
              "      <td id=\"T_d52cf_row3_col2\" class=\"data row3 col2\" >0.000000</td>\n",
              "      <td id=\"T_d52cf_row3_col3\" class=\"data row3 col3\" >0.000000</td>\n",
              "      <td id=\"T_d52cf_row3_col4\" class=\"data row3 col4\" >2006-2008</td>\n",
              "      <td id=\"T_d52cf_row3_col5\" class=\"data row3 col5\" >Violent crime rate</td>\n",
              "      <td id=\"T_d52cf_row3_col6\" class=\"data row3 col6\" >43.000000</td>\n",
              "      <td id=\"T_d52cf_row3_col7\" class=\"data row3 col7\" >1366928.333000</td>\n",
              "      <td id=\"T_d52cf_row3_col8\" class=\"data row3 col8\" >287614567.700000</td>\n",
              "      <td id=\"T_d52cf_row3_col9\" class=\"data row3 col9\" >475.263942</td>\n",
              "      <td id=\"T_d52cf_row3_col10\" class=\"data row3 col10\" >nan</td>\n",
              "      <td id=\"T_d52cf_row3_col11\" class=\"data row3 col11\" >nan</td>\n",
              "      <td id=\"T_d52cf_row3_col12\" class=\"data row3 col12\" >2011.000000</td>\n",
              "      <td id=\"T_d52cf_row3_col13\" class=\"data row3 col13\" >0.000000</td>\n",
              "    </tr>\n",
              "    <tr>\n",
              "      <th id=\"T_d52cf_level0_row4\" class=\"row_heading level0 row4\" >4</th>\n",
              "      <td id=\"T_d52cf_row4_col0\" class=\"data row4 col0\" >US</td>\n",
              "      <td id=\"T_d52cf_row4_col1\" class=\"data row4 col1\" >United States</td>\n",
              "      <td id=\"T_d52cf_row4_col2\" class=\"data row4 col2\" >0.000000</td>\n",
              "      <td id=\"T_d52cf_row4_col3\" class=\"data row4 col3\" >0.000000</td>\n",
              "      <td id=\"T_d52cf_row4_col4\" class=\"data row4 col4\" >2007-2009</td>\n",
              "      <td id=\"T_d52cf_row4_col5\" class=\"data row4 col5\" >Violent crime rate</td>\n",
              "      <td id=\"T_d52cf_row4_col6\" class=\"data row4 col6\" >43.000000</td>\n",
              "      <td id=\"T_d52cf_row4_col7\" class=\"data row4 col7\" >1339439.333000</td>\n",
              "      <td id=\"T_d52cf_row4_col8\" class=\"data row4 col8\" >292576281.200000</td>\n",
              "      <td id=\"T_d52cf_row4_col9\" class=\"data row4 col9\" >457.808585</td>\n",
              "      <td id=\"T_d52cf_row4_col10\" class=\"data row4 col10\" >nan</td>\n",
              "      <td id=\"T_d52cf_row4_col11\" class=\"data row4 col11\" >nan</td>\n",
              "      <td id=\"T_d52cf_row4_col12\" class=\"data row4 col12\" >2012.000000</td>\n",
              "      <td id=\"T_d52cf_row4_col13\" class=\"data row4 col13\" >0.000000</td>\n",
              "    </tr>\n",
              "  </tbody>\n",
              "</table>\n"
            ]
          },
          "metadata": {},
          "execution_count": 3
        }
      ],
      "source": [
        "import pandas as pd\n",
        "\n",
        "from tabulate import tabulate\n",
        "\n",
        "# Replace 'County_Health_Rankings.csv' with the actual file path if needed.\n",
        "df = pd.read_csv('County_Health_Rankings.csv')\n",
        "\n",
        "print(tabulate(df.head(), headers='keys', tablefmt='grid'))\n",
        "\n",
        "df.head().style.set_properties(**{'border': '1px solid black', 'padding': '10px'})\n",
        "\n"
      ]
    }
  ]
}